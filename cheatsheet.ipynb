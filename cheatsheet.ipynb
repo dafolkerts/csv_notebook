{
 "cells": [
  {
   "cell_type": "markdown",
   "metadata": {},
   "source": [
    "# csv file"
   ]
  },
  {
   "cell_type": "code",
   "execution_count": 11,
   "metadata": {},
   "outputs": [
    {
     "data": {
      "text/plain": [
       "odict_keys(['YEAR', 'Make', 'Model', 'Size', '(kW)', 'Unnamed: 5', 'TYPE', 'CITY (kWh/100 km)', 'HWY (kWh/100 km)', 'COMB (kWh/100 km)', 'CITY (Le/100 km)', 'HWY (Le/100 km)', 'COMB (Le/100 km)', '(g/km)', 'RATING', '(km)', 'TIME (h)'])"
      ]
     },
     "execution_count": 11,
     "metadata": {},
     "output_type": "execute_result"
    }
   ],
   "source": [
    "import csv\n",
    "\n",
    "%precision 2  # keeps data precision to 2 decimal places\n",
    "\n",
    "filename = 'cars.csv'\n",
    "\n",
    "with open(filename) as csvfile:\n",
    "    values = list(csv.DictReader(csvfile))\n",
    "    \n",
    "#values[:3]  # first 3 dictionaries\n",
    "values[0].keys()"
   ]
  },
  {
   "cell_type": "markdown",
   "metadata": {},
   "source": [
    "# dates and times"
   ]
  },
  {
   "cell_type": "code",
   "execution_count": 14,
   "metadata": {},
   "outputs": [
    {
     "data": {
      "text/plain": [
       "datetime.date(2017, 12, 28)"
      ]
     },
     "execution_count": 14,
     "metadata": {},
     "output_type": "execute_result"
    }
   ],
   "source": [
    "import datetime\n",
    "import time\n",
    "\n",
    "time.time()  # current time, seconds from Unix epoch, Midnight Jan 1, 1970 UTC\n",
    "datetime.datetime.fromtimestamp(time.time())#gives attributes year, month, day, hour, minute, second, microseconds\n",
    "\n",
    "delta = datetime.timedelta(days = 100)  # creates a time delta of 100 days\n",
    "today = datetime.date.today()  # returns current localdate\n",
    "today - delta  # 100 days ago"
   ]
  },
  {
   "cell_type": "markdown",
   "metadata": {},
   "source": [
    "# matplotlib"
   ]
  },
  {
   "cell_type": "code",
   "execution_count": 15,
   "metadata": {
    "collapsed": true
   },
   "outputs": [],
   "source": [
    "%matplotlib notebook  # must be in first cell\n",
    "\n",
    "import matplotlib as mpl\n",
    "mpl.get_backend()\n",
    "\n",
    "import matplotlib.pyplot as plt\n"
   ]
  },
  {
   "cell_type": "markdown",
   "metadata": {},
   "source": [
    "# numpy"
   ]
  },
  {
   "cell_type": "code",
   "execution_count": null,
   "metadata": {
    "collapsed": true
   },
   "outputs": [],
   "source": [
    "import numpy as np\n",
    "\n",
    "mylist = [1, 2, 3]\n",
    "x = np.array(mylist)    # creates numpy array from list\n",
    "x.shape                 # returns the array dimensions (rows, columns)\n",
    "n = np.arange(0,30,2)   # start at 0, count up by 2, stop before 30\n",
    "n."
   ]
  }
 ],
 "metadata": {
  "kernelspec": {
   "display_name": "Python 3",
   "language": "python",
   "name": "python3"
  },
  "language_info": {
   "codemirror_mode": {
    "name": "ipython",
    "version": 3
   },
   "file_extension": ".py",
   "mimetype": "text/x-python",
   "name": "python",
   "nbconvert_exporter": "python",
   "pygments_lexer": "ipython3",
   "version": "3.6.1"
  }
 },
 "nbformat": 4,
 "nbformat_minor": 2
}
