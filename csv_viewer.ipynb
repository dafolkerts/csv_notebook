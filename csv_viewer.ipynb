{
 "cells": [
  {
   "cell_type": "code",
   "execution_count": 15,
   "metadata": {
    "collapsed": true
   },
   "outputs": [],
   "source": [
    "%matplotlib notebook\n",
    "%precision 2\n",
    "\n",
    "import csv, datetime"
   ]
  },
  {
   "cell_type": "markdown",
   "metadata": {},
   "source": [
    "# CSV file info"
   ]
  },
  {
   "cell_type": "code",
   "execution_count": 16,
   "metadata": {
    "collapsed": true
   },
   "outputs": [],
   "source": [
    "filename = '20180502.csv'\n",
    "\n",
    "with open(filename) as csvfile:\n",
    "    values = list(csv.DictReader(csvfile))\n",
    "    \n"
   ]
  },
  {
   "cell_type": "code",
   "execution_count": 17,
   "metadata": {},
   "outputs": [
    {
     "data": {
      "text/plain": [
       "913"
      ]
     },
     "execution_count": 17,
     "metadata": {},
     "output_type": "execute_result"
    }
   ],
   "source": [
    "len(values)"
   ]
  },
  {
   "cell_type": "code",
   "execution_count": 18,
   "metadata": {},
   "outputs": [
    {
     "name": "stdout",
     "output_type": "stream",
     "text": [
      "OrderedDict([('Time', ' 2018/05/02 04:27:28'), (' D 0058', '16771'), (' D 0001', '46'), (' D 2152', '49'), (' D 2154', '168'), (' D 2169', '100'), (' D 2252', '51'), (' D 2254', '51'), (' D 2269', '0'), (' D 2124', '-16372'), (' D 2224', '-16376'), (' D 2123', '20225')])\n"
     ]
    }
   ],
   "source": [
    "print(values[0])"
   ]
  },
  {
   "cell_type": "code",
   "execution_count": 19,
   "metadata": {},
   "outputs": [
    {
     "name": "stdout",
     "output_type": "stream",
     "text": [
      "2018-05-02 04:27:28\n",
      "2018\n",
      "5\n",
      "2\n",
      "4\n",
      "27\n",
      "28\n"
     ]
    }
   ],
   "source": [
    "dpi = 0 # data point index\n",
    "pt = values[dpi]\n",
    "\n",
    "dp_datetime = datetime.datetime(year=int(pt['Time'][1:5]), month=int(pt['Time'][6:8]), day=int(pt['Time'][9:11]), \n",
    "                                hour=int(pt['Time'][12:14]), minute=int(pt['Time'][15:17]), second=int(pt['Time'][18:]))\n",
    "\n",
    "print(dp_datetime)\n",
    "print(dp_datetime.year)\n",
    "print(dp_datetime.month)\n",
    "print(dp_datetime.day)\n",
    "print(dp_datetime.hour)\n",
    "print(dp_datetime.minute)\n",
    "print(dp_datetime.second)"
   ]
  }
 ],
 "metadata": {
  "kernelspec": {
   "display_name": "Python 3",
   "language": "python",
   "name": "python3"
  },
  "language_info": {
   "codemirror_mode": {
    "name": "ipython",
    "version": 3
   },
   "file_extension": ".py",
   "mimetype": "text/x-python",
   "name": "python",
   "nbconvert_exporter": "python",
   "pygments_lexer": "ipython3",
   "version": "3.6.1"
  }
 },
 "nbformat": 4,
 "nbformat_minor": 2
}
